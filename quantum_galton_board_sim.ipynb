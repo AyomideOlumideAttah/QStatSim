{
  "nbformat": 4,
  "nbformat_minor": 0,
  "metadata": {
    "colab": {
      "provenance": []
    },
    "kernelspec": {
      "name": "python3",
      "display_name": "Python 3"
    },
    "language_info": {
      "name": "python"
    }
  },
  "cells": [
    {
      "cell_type": "markdown",
      "source": [
        "# Quantum Walks and Monte Carlo Simulation\n",
        "\n",
        "**Author**: Ayomide Olumide-Attah, Muna Numan Said\n",
        "\n",
        "**Date**: August 9th, 2025"
      ],
      "metadata": {
        "id": "qz7NOmBCAXMr"
      }
    },
    {
      "cell_type": "markdown",
      "source": [
        "# Overview\n",
        "\n",
        "The work in [this paper](https://https://doi.org/10.48550/arxiv.2202.01735) features a rapid quantum algorithm that simulates the classical Galton Board, an interesting object known for its demonstration of core probability ideas, including Gaussian distributions and the Central Limit Theorem, as well as its applications in modeling, machine learning, and system simulations.\n",
        "\n",
        "This paper aims to demonstrate our team's understanding of the concepts behind the algorithm, as well as propose a method of generalizing it to any number of levels."
      ],
      "metadata": {
        "id": "-Ap44eJsAqM1"
      }
    },
    {
      "cell_type": "markdown",
      "source": [
        "# Installation of the necessary dependencies"
      ],
      "metadata": {
        "id": "CcgBCm5YyLFU"
      }
    },
    {
      "cell_type": "code",
      "execution_count": 1,
      "metadata": {
        "colab": {
          "base_uri": "https://localhost:8080/"
        },
        "id": "ckqfAWy3D8g1",
        "outputId": "1e0b768e-921c-4065-9d4d-b680cb7a376f",
        "collapsed": true
      },
      "outputs": [
        {
          "output_type": "stream",
          "name": "stdout",
          "text": [
            "Requirement already satisfied: pip in /usr/local/lib/python3.11/dist-packages (24.1.2)\n",
            "Collecting pip\n",
            "  Downloading pip-25.2-py3-none-any.whl.metadata (4.7 kB)\n",
            "Downloading pip-25.2-py3-none-any.whl (1.8 MB)\n",
            "\u001b[2K   \u001b[90m━━━━━━━━━━━━━━━━━━━━━━━━━━━━━━━━━━━━━━━━\u001b[0m \u001b[32m1.8/1.8 MB\u001b[0m \u001b[31m17.3 MB/s\u001b[0m eta \u001b[36m0:00:00\u001b[0m\n",
            "\u001b[?25hInstalling collected packages: pip\n",
            "  Attempting uninstall: pip\n",
            "    Found existing installation: pip 24.1.2\n",
            "    Uninstalling pip-24.1.2:\n",
            "      Successfully uninstalled pip-24.1.2\n",
            "Successfully installed pip-25.2\n"
          ]
        }
      ],
      "source": [
        "!pip3 install --upgrade pip"
      ]
    },
    {
      "cell_type": "code",
      "source": [
        "!pip install qiskit==1.3\n",
        "!pip install qiskit-aer==0.15\n",
        "!pip install pylatexenc==2.10\n",
        "!pip install qiskit_ibm_runtime==0.34.0"
      ],
      "metadata": {
        "colab": {
          "base_uri": "https://localhost:8080/"
        },
        "id": "TjB8oiPIGvwd",
        "outputId": "d39fe971-c424-4540-cc09-c8e8f6d92234",
        "collapsed": true
      },
      "execution_count": 2,
      "outputs": [
        {
          "output_type": "stream",
          "name": "stdout",
          "text": [
            "Collecting qiskit==1.3\n",
            "  Downloading qiskit-1.3.0-cp39-abi3-manylinux_2_17_x86_64.manylinux2014_x86_64.whl.metadata (12 kB)\n",
            "Collecting rustworkx>=0.15.0 (from qiskit==1.3)\n",
            "  Downloading rustworkx-0.16.0-cp39-abi3-manylinux_2_17_x86_64.manylinux2014_x86_64.whl.metadata (10 kB)\n",
            "Requirement already satisfied: numpy<3,>=1.17 in /usr/local/lib/python3.11/dist-packages (from qiskit==1.3) (2.0.2)\n",
            "Requirement already satisfied: scipy>=1.5 in /usr/local/lib/python3.11/dist-packages (from qiskit==1.3) (1.16.1)\n",
            "Requirement already satisfied: sympy>=1.3 in /usr/local/lib/python3.11/dist-packages (from qiskit==1.3) (1.13.1)\n",
            "Requirement already satisfied: dill>=0.3 in /usr/local/lib/python3.11/dist-packages (from qiskit==1.3) (0.3.8)\n",
            "Requirement already satisfied: python-dateutil>=2.8.0 in /usr/local/lib/python3.11/dist-packages (from qiskit==1.3) (2.9.0.post0)\n",
            "Collecting stevedore>=3.0.0 (from qiskit==1.3)\n",
            "  Downloading stevedore-5.4.1-py3-none-any.whl.metadata (2.3 kB)\n",
            "Requirement already satisfied: typing-extensions in /usr/local/lib/python3.11/dist-packages (from qiskit==1.3) (4.14.1)\n",
            "Collecting symengine<0.14,>=0.11 (from qiskit==1.3)\n",
            "  Downloading symengine-0.13.0-cp311-cp311-manylinux_2_17_x86_64.manylinux2014_x86_64.whl.metadata (1.2 kB)\n",
            "Requirement already satisfied: six>=1.5 in /usr/local/lib/python3.11/dist-packages (from python-dateutil>=2.8.0->qiskit==1.3) (1.17.0)\n",
            "Collecting pbr>=2.0.0 (from stevedore>=3.0.0->qiskit==1.3)\n",
            "  Downloading pbr-6.1.1-py2.py3-none-any.whl.metadata (3.4 kB)\n",
            "Requirement already satisfied: setuptools in /usr/local/lib/python3.11/dist-packages (from pbr>=2.0.0->stevedore>=3.0.0->qiskit==1.3) (75.2.0)\n",
            "Requirement already satisfied: mpmath<1.4,>=1.1.0 in /usr/local/lib/python3.11/dist-packages (from sympy>=1.3->qiskit==1.3) (1.3.0)\n",
            "Downloading qiskit-1.3.0-cp39-abi3-manylinux_2_17_x86_64.manylinux2014_x86_64.whl (6.7 MB)\n",
            "\u001b[2K   \u001b[90m━━━━━━━━━━━━━━━━━━━━━━━━━━━━━━━━━━━━━━━━\u001b[0m \u001b[32m6.7/6.7 MB\u001b[0m \u001b[31m30.9 MB/s\u001b[0m  \u001b[33m0:00:00\u001b[0m\n",
            "\u001b[?25hDownloading symengine-0.13.0-cp311-cp311-manylinux_2_17_x86_64.manylinux2014_x86_64.whl (49.7 MB)\n",
            "\u001b[2K   \u001b[90m━━━━━━━━━━━━━━━━━━━━━━━━━━━━━━━━━━━━━━━━\u001b[0m \u001b[32m49.7/49.7 MB\u001b[0m \u001b[31m40.1 MB/s\u001b[0m  \u001b[33m0:00:01\u001b[0m\n",
            "\u001b[?25hDownloading rustworkx-0.16.0-cp39-abi3-manylinux_2_17_x86_64.manylinux2014_x86_64.whl (2.1 MB)\n",
            "\u001b[2K   \u001b[90m━━━━━━━━━━━━━━━━━━━━━━━━━━━━━━━━━━━━━━━━\u001b[0m \u001b[32m2.1/2.1 MB\u001b[0m \u001b[31m18.9 MB/s\u001b[0m  \u001b[33m0:00:00\u001b[0m\n",
            "\u001b[?25hDownloading stevedore-5.4.1-py3-none-any.whl (49 kB)\n",
            "Downloading pbr-6.1.1-py2.py3-none-any.whl (108 kB)\n",
            "Installing collected packages: symengine, rustworkx, pbr, stevedore, qiskit\n",
            "\u001b[2K   \u001b[90m━━━━━━━━━━━━━━━━━━━━━━━━━━━━━━━━━━━━━━━━\u001b[0m \u001b[32m5/5\u001b[0m [qiskit]\n",
            "\u001b[1A\u001b[2KSuccessfully installed pbr-6.1.1 qiskit-1.3.0 rustworkx-0.16.0 stevedore-5.4.1 symengine-0.13.0\n",
            "Collecting qiskit-aer==0.15\n",
            "  Downloading qiskit_aer-0.15.0-cp311-cp311-manylinux_2_17_x86_64.manylinux2014_x86_64.whl.metadata (8.0 kB)\n",
            "Requirement already satisfied: qiskit>=1.1.0 in /usr/local/lib/python3.11/dist-packages (from qiskit-aer==0.15) (1.3.0)\n",
            "Requirement already satisfied: numpy>=1.16.3 in /usr/local/lib/python3.11/dist-packages (from qiskit-aer==0.15) (2.0.2)\n",
            "Requirement already satisfied: scipy>=1.0 in /usr/local/lib/python3.11/dist-packages (from qiskit-aer==0.15) (1.16.1)\n",
            "Requirement already satisfied: psutil>=5 in /usr/local/lib/python3.11/dist-packages (from qiskit-aer==0.15) (5.9.5)\n",
            "Requirement already satisfied: rustworkx>=0.15.0 in /usr/local/lib/python3.11/dist-packages (from qiskit>=1.1.0->qiskit-aer==0.15) (0.16.0)\n",
            "Requirement already satisfied: sympy>=1.3 in /usr/local/lib/python3.11/dist-packages (from qiskit>=1.1.0->qiskit-aer==0.15) (1.13.1)\n",
            "Requirement already satisfied: dill>=0.3 in /usr/local/lib/python3.11/dist-packages (from qiskit>=1.1.0->qiskit-aer==0.15) (0.3.8)\n",
            "Requirement already satisfied: python-dateutil>=2.8.0 in /usr/local/lib/python3.11/dist-packages (from qiskit>=1.1.0->qiskit-aer==0.15) (2.9.0.post0)\n",
            "Requirement already satisfied: stevedore>=3.0.0 in /usr/local/lib/python3.11/dist-packages (from qiskit>=1.1.0->qiskit-aer==0.15) (5.4.1)\n",
            "Requirement already satisfied: typing-extensions in /usr/local/lib/python3.11/dist-packages (from qiskit>=1.1.0->qiskit-aer==0.15) (4.14.1)\n",
            "Requirement already satisfied: symengine<0.14,>=0.11 in /usr/local/lib/python3.11/dist-packages (from qiskit>=1.1.0->qiskit-aer==0.15) (0.13.0)\n",
            "Requirement already satisfied: six>=1.5 in /usr/local/lib/python3.11/dist-packages (from python-dateutil>=2.8.0->qiskit>=1.1.0->qiskit-aer==0.15) (1.17.0)\n",
            "Requirement already satisfied: pbr>=2.0.0 in /usr/local/lib/python3.11/dist-packages (from stevedore>=3.0.0->qiskit>=1.1.0->qiskit-aer==0.15) (6.1.1)\n",
            "Requirement already satisfied: setuptools in /usr/local/lib/python3.11/dist-packages (from pbr>=2.0.0->stevedore>=3.0.0->qiskit>=1.1.0->qiskit-aer==0.15) (75.2.0)\n",
            "Requirement already satisfied: mpmath<1.4,>=1.1.0 in /usr/local/lib/python3.11/dist-packages (from sympy>=1.3->qiskit>=1.1.0->qiskit-aer==0.15) (1.3.0)\n",
            "Downloading qiskit_aer-0.15.0-cp311-cp311-manylinux_2_17_x86_64.manylinux2014_x86_64.whl (12.3 MB)\n",
            "\u001b[2K   \u001b[90m━━━━━━━━━━━━━━━━━━━━━━━━━━━━━━━━━━━━━━━━\u001b[0m \u001b[32m12.3/12.3 MB\u001b[0m \u001b[31m45.7 MB/s\u001b[0m  \u001b[33m0:00:00\u001b[0m\n",
            "\u001b[?25hInstalling collected packages: qiskit-aer\n",
            "Successfully installed qiskit-aer-0.15.0\n",
            "Collecting pylatexenc==2.10\n",
            "  Downloading pylatexenc-2.10.tar.gz (162 kB)\n",
            "  Preparing metadata (setup.py) ... \u001b[?25l\u001b[?25hdone\n",
            "Building wheels for collected packages: pylatexenc\n",
            "\u001b[33m  DEPRECATION: Building 'pylatexenc' using the legacy setup.py bdist_wheel mechanism, which will be removed in a future version. pip 25.3 will enforce this behaviour change. A possible replacement is to use the standardized build interface by setting the `--use-pep517` option, (possibly combined with `--no-build-isolation`), or adding a `pyproject.toml` file to the source tree of 'pylatexenc'. Discussion can be found at https://github.com/pypa/pip/issues/6334\u001b[0m\u001b[33m\n",
            "\u001b[0m  Building wheel for pylatexenc (setup.py) ... \u001b[?25l\u001b[?25hdone\n",
            "  Created wheel for pylatexenc: filename=pylatexenc-2.10-py3-none-any.whl size=136817 sha256=84a1b642998e9da9a6dd15a51f2ce5f6dd9749a305ce3a98fe7436c3418b521a\n",
            "  Stored in directory: /root/.cache/pip/wheels/b1/7a/33/9fdd892f784ed4afda62b685ae3703adf4c91aa0f524c28f03\n",
            "Successfully built pylatexenc\n",
            "Installing collected packages: pylatexenc\n",
            "Successfully installed pylatexenc-2.10\n",
            "Collecting qiskit_ibm_runtime==0.34.0\n",
            "  Downloading qiskit_ibm_runtime-0.34.0-py3-none-any.whl.metadata (3.0 kB)\n",
            "Requirement already satisfied: requests>=2.19 in /usr/local/lib/python3.11/dist-packages (from qiskit_ibm_runtime==0.34.0) (2.32.3)\n",
            "Collecting requests-ntlm>=1.1.0 (from qiskit_ibm_runtime==0.34.0)\n",
            "  Downloading requests_ntlm-1.3.0-py3-none-any.whl.metadata (2.4 kB)\n",
            "Requirement already satisfied: numpy>=1.13 in /usr/local/lib/python3.11/dist-packages (from qiskit_ibm_runtime==0.34.0) (2.0.2)\n",
            "Requirement already satisfied: urllib3>=1.21.1 in /usr/local/lib/python3.11/dist-packages (from qiskit_ibm_runtime==0.34.0) (2.5.0)\n",
            "Requirement already satisfied: python-dateutil>=2.8.0 in /usr/local/lib/python3.11/dist-packages (from qiskit_ibm_runtime==0.34.0) (2.9.0.post0)\n",
            "Requirement already satisfied: websocket-client>=1.5.1 in /usr/local/lib/python3.11/dist-packages (from qiskit_ibm_runtime==0.34.0) (1.8.0)\n",
            "Collecting ibm-platform-services>=0.22.6 (from qiskit_ibm_runtime==0.34.0)\n",
            "  Downloading ibm_platform_services-0.68.1-py3-none-any.whl.metadata (9.0 kB)\n",
            "Collecting pydantic<2.10,>=2.5.0 (from qiskit_ibm_runtime==0.34.0)\n",
            "  Downloading pydantic-2.9.2-py3-none-any.whl.metadata (149 kB)\n",
            "Requirement already satisfied: qiskit>=1.1.0 in /usr/local/lib/python3.11/dist-packages (from qiskit_ibm_runtime==0.34.0) (1.3.0)\n",
            "Requirement already satisfied: annotated-types>=0.6.0 in /usr/local/lib/python3.11/dist-packages (from pydantic<2.10,>=2.5.0->qiskit_ibm_runtime==0.34.0) (0.7.0)\n",
            "Collecting pydantic-core==2.23.4 (from pydantic<2.10,>=2.5.0->qiskit_ibm_runtime==0.34.0)\n",
            "  Downloading pydantic_core-2.23.4-cp311-cp311-manylinux_2_17_x86_64.manylinux2014_x86_64.whl.metadata (6.6 kB)\n",
            "Requirement already satisfied: typing-extensions>=4.6.1 in /usr/local/lib/python3.11/dist-packages (from pydantic<2.10,>=2.5.0->qiskit_ibm_runtime==0.34.0) (4.14.1)\n",
            "Collecting ibm_cloud_sdk_core<4.0.0,>=3.24.2 (from ibm-platform-services>=0.22.6->qiskit_ibm_runtime==0.34.0)\n",
            "  Downloading ibm_cloud_sdk_core-3.24.2-py3-none-any.whl.metadata (8.7 kB)\n",
            "Collecting requests>=2.19 (from qiskit_ibm_runtime==0.34.0)\n",
            "  Downloading requests-2.32.4-py3-none-any.whl.metadata (4.9 kB)\n",
            "Requirement already satisfied: PyJWT<3.0.0,>=2.10.1 in /usr/local/lib/python3.11/dist-packages (from ibm_cloud_sdk_core<4.0.0,>=3.24.2->ibm-platform-services>=0.22.6->qiskit_ibm_runtime==0.34.0) (2.10.1)\n",
            "Requirement already satisfied: six>=1.5 in /usr/local/lib/python3.11/dist-packages (from python-dateutil>=2.8.0->qiskit_ibm_runtime==0.34.0) (1.17.0)\n",
            "Requirement already satisfied: charset_normalizer<4,>=2 in /usr/local/lib/python3.11/dist-packages (from requests>=2.19->qiskit_ibm_runtime==0.34.0) (3.4.2)\n",
            "Requirement already satisfied: idna<4,>=2.5 in /usr/local/lib/python3.11/dist-packages (from requests>=2.19->qiskit_ibm_runtime==0.34.0) (3.10)\n",
            "Requirement already satisfied: certifi>=2017.4.17 in /usr/local/lib/python3.11/dist-packages (from requests>=2.19->qiskit_ibm_runtime==0.34.0) (2025.8.3)\n",
            "Requirement already satisfied: rustworkx>=0.15.0 in /usr/local/lib/python3.11/dist-packages (from qiskit>=1.1.0->qiskit_ibm_runtime==0.34.0) (0.16.0)\n",
            "Requirement already satisfied: scipy>=1.5 in /usr/local/lib/python3.11/dist-packages (from qiskit>=1.1.0->qiskit_ibm_runtime==0.34.0) (1.16.1)\n",
            "Requirement already satisfied: sympy>=1.3 in /usr/local/lib/python3.11/dist-packages (from qiskit>=1.1.0->qiskit_ibm_runtime==0.34.0) (1.13.1)\n",
            "Requirement already satisfied: dill>=0.3 in /usr/local/lib/python3.11/dist-packages (from qiskit>=1.1.0->qiskit_ibm_runtime==0.34.0) (0.3.8)\n",
            "Requirement already satisfied: stevedore>=3.0.0 in /usr/local/lib/python3.11/dist-packages (from qiskit>=1.1.0->qiskit_ibm_runtime==0.34.0) (5.4.1)\n",
            "Requirement already satisfied: symengine<0.14,>=0.11 in /usr/local/lib/python3.11/dist-packages (from qiskit>=1.1.0->qiskit_ibm_runtime==0.34.0) (0.13.0)\n",
            "Requirement already satisfied: cryptography>=1.3 in /usr/local/lib/python3.11/dist-packages (from requests-ntlm>=1.1.0->qiskit_ibm_runtime==0.34.0) (43.0.3)\n",
            "Collecting pyspnego>=0.4.0 (from requests-ntlm>=1.1.0->qiskit_ibm_runtime==0.34.0)\n",
            "  Downloading pyspnego-0.11.2-py3-none-any.whl.metadata (5.4 kB)\n",
            "Requirement already satisfied: cffi>=1.12 in /usr/local/lib/python3.11/dist-packages (from cryptography>=1.3->requests-ntlm>=1.1.0->qiskit_ibm_runtime==0.34.0) (1.17.1)\n",
            "Requirement already satisfied: pycparser in /usr/local/lib/python3.11/dist-packages (from cffi>=1.12->cryptography>=1.3->requests-ntlm>=1.1.0->qiskit_ibm_runtime==0.34.0) (2.22)\n",
            "Requirement already satisfied: pbr>=2.0.0 in /usr/local/lib/python3.11/dist-packages (from stevedore>=3.0.0->qiskit>=1.1.0->qiskit_ibm_runtime==0.34.0) (6.1.1)\n",
            "Requirement already satisfied: setuptools in /usr/local/lib/python3.11/dist-packages (from pbr>=2.0.0->stevedore>=3.0.0->qiskit>=1.1.0->qiskit_ibm_runtime==0.34.0) (75.2.0)\n",
            "Requirement already satisfied: mpmath<1.4,>=1.1.0 in /usr/local/lib/python3.11/dist-packages (from sympy>=1.3->qiskit>=1.1.0->qiskit_ibm_runtime==0.34.0) (1.3.0)\n",
            "Downloading qiskit_ibm_runtime-0.34.0-py3-none-any.whl (3.0 MB)\n",
            "\u001b[2K   \u001b[90m━━━━━━━━━━━━━━━━━━━━━━━━━━━━━━━━━━━━━━━━\u001b[0m \u001b[32m3.0/3.0 MB\u001b[0m \u001b[31m50.7 MB/s\u001b[0m  \u001b[33m0:00:00\u001b[0m\n",
            "\u001b[?25hDownloading pydantic-2.9.2-py3-none-any.whl (434 kB)\n",
            "Downloading pydantic_core-2.23.4-cp311-cp311-manylinux_2_17_x86_64.manylinux2014_x86_64.whl (2.1 MB)\n",
            "\u001b[2K   \u001b[90m━━━━━━━━━━━━━━━━━━━━━━━━━━━━━━━━━━━━━━━━\u001b[0m \u001b[32m2.1/2.1 MB\u001b[0m \u001b[31m69.0 MB/s\u001b[0m  \u001b[33m0:00:00\u001b[0m\n",
            "\u001b[?25hDownloading ibm_platform_services-0.68.1-py3-none-any.whl (366 kB)\n",
            "Downloading ibm_cloud_sdk_core-3.24.2-py3-none-any.whl (75 kB)\n",
            "Downloading requests-2.32.4-py3-none-any.whl (64 kB)\n",
            "Downloading requests_ntlm-1.3.0-py3-none-any.whl (6.6 kB)\n",
            "Downloading pyspnego-0.11.2-py3-none-any.whl (130 kB)\n",
            "Installing collected packages: requests, pydantic-core, pydantic, ibm_cloud_sdk_core, pyspnego, ibm-platform-services, requests-ntlm, qiskit_ibm_runtime\n",
            "\u001b[2K  Attempting uninstall: requests\n",
            "\u001b[2K    Found existing installation: requests 2.32.3\n",
            "\u001b[2K    Uninstalling requests-2.32.3:\n",
            "\u001b[2K      Successfully uninstalled requests-2.32.3\n",
            "\u001b[2K  Attempting uninstall: pydantic-core\n",
            "\u001b[2K    Found existing installation: pydantic_core 2.33.2\n",
            "\u001b[2K    Uninstalling pydantic_core-2.33.2:\n",
            "\u001b[2K      Successfully uninstalled pydantic_core-2.33.2\n",
            "\u001b[2K  Attempting uninstall: pydantic\n",
            "\u001b[2K    Found existing installation: pydantic 2.11.7\n",
            "\u001b[2K    Uninstalling pydantic-2.11.7:\n",
            "\u001b[2K      Successfully uninstalled pydantic-2.11.7\n",
            "\u001b[2K   \u001b[90m━━━━━━━━━━━━━━━━━━━━━━━━━━━━━━━━━━━━━━━━\u001b[0m \u001b[32m8/8\u001b[0m [qiskit_ibm_runtime]\n",
            "\u001b[1A\u001b[2K\u001b[31mERROR: pip's dependency resolver does not currently take into account all the packages that are installed. This behaviour is the source of the following dependency conflicts.\n",
            "google-colab 1.0.0 requires requests==2.32.3, but you have requests 2.32.4 which is incompatible.\u001b[0m\u001b[31m\n",
            "\u001b[0mSuccessfully installed ibm-platform-services-0.68.1 ibm_cloud_sdk_core-3.24.2 pydantic-2.9.2 pydantic-core-2.23.4 pyspnego-0.11.2 qiskit_ibm_runtime-0.34.0 requests-2.32.4 requests-ntlm-1.3.0\n"
          ]
        }
      ]
    },
    {
      "cell_type": "code",
      "source": [
        "import qiskit\n",
        "qiskit.__version__"
      ],
      "metadata": {
        "colab": {
          "base_uri": "https://localhost:8080/",
          "height": 35
        },
        "id": "xWnyv5PeHB0x",
        "outputId": "09b1a026-41da-4e91-d1af-0afa8d505377"
      },
      "execution_count": 4,
      "outputs": [
        {
          "output_type": "execute_result",
          "data": {
            "text/plain": [
              "'1.3.0'"
            ],
            "application/vnd.google.colaboratory.intrinsic+json": {
              "type": "string"
            }
          },
          "metadata": {},
          "execution_count": 4
        }
      ]
    },
    {
      "cell_type": "markdown",
      "source": [
        "# Import Statements"
      ],
      "metadata": {
        "id": "RwrJ_Wm4s_aO"
      }
    },
    {
      "cell_type": "code",
      "source": [
        "# Qiskit-related modules\n",
        "from qiskit import QuantumCircuit, QuantumRegister, ClassicalRegister\n",
        "from qiskit.visualization import plot_histogram\n",
        "from qiskit_aer.primitives import SamplerV2\n",
        "\n",
        "# NumPy for helpful math functionality\n",
        "import numpy as np"
      ],
      "metadata": {
        "id": "qOEjXmKHs_GK"
      },
      "execution_count": 156,
      "outputs": []
    },
    {
      "cell_type": "markdown",
      "source": [
        "# Part 1: The Quantum Peg"
      ],
      "metadata": {
        "id": "VUnPi0kbxtQy"
      }
    },
    {
      "cell_type": "markdown",
      "source": [
        "## Quantum Peg"
      ],
      "metadata": {
        "id": "lW1Kgw04t5mY"
      }
    },
    {
      "cell_type": "code",
      "source": [
        "def qpeg(qc: QuantumCircuit, ball: int, path_1: int, path_2: int, control: int):\n",
        "  q = qc.qregs[0]\n",
        "  qc.cswap(q[control], q[path_1], q[ball])\n",
        "  qc.cx(q[ball], q[control])\n",
        "  qc.cswap(q[control], q[ball], q[path_2])"
      ],
      "metadata": {
        "id": "KxLMP8uxt8oa"
      },
      "execution_count": 174,
      "outputs": []
    },
    {
      "cell_type": "markdown",
      "source": [
        "## Quantum Peg [Demonstration]"
      ],
      "metadata": {
        "id": "-nOXUKBiuAAr"
      }
    },
    {
      "cell_type": "code",
      "source": [
        "q, c = QuantumRegister(4, 'q'), ClassicalRegister(2, 'c')\n",
        "qc = QuantumCircuit(q, c)\n",
        "\n",
        "ball = 2\n",
        "path_1, path_2 = 1, 3\n",
        "control = 0\n",
        "\n",
        "# Placing the 'ball'\n",
        "qc.x(ball)\n",
        "\n",
        "# Setting the 'control' qubit in equal superposition (to simulate 'randomness')\n",
        "qc.h(control)\n",
        "\n",
        "# Implementing the quantum peg logic\n",
        "qpeg(qc, ball, path_1, path_2, control)\n",
        "\n",
        "for i in range(2):\n",
        "  qc.measure(q[2 * i + 1], c[i])\n",
        "\n",
        "qc.draw(output=\"mpl\")"
      ],
      "metadata": {
        "colab": {
          "base_uri": "https://localhost:8080/",
          "height": 384
        },
        "id": "IKz21wp3t_bb",
        "outputId": "54cd8ac4-7ae8-47ba-d9d8-b390fe722f3d"
      },
      "execution_count": 171,
      "outputs": [
        {
          "output_type": "execute_result",
          "data": {
            "text/plain": [
              "<Figure size 621.941x451.5 with 1 Axes>"
            ],
            "image/png": "[encoded data removed]"
          },
          "metadata": {},
          "execution_count": 171
        }
      ]
    },
    {
      "cell_type": "code",
      "source": [
        "# Results\n",
        "sampler = SamplerV2()\n",
        "job = sampler.run([qc], shots=10000)\n",
        "result = job.result()\n",
        "counts = result[0].data.c.get_counts()\n",
        "plot_histogram(counts)"
      ],
      "metadata": {
        "colab": {
          "base_uri": "https://localhost:8080/",
          "height": 437
        },
        "id": "lxX9dBGxuywe",
        "outputId": "57d39ece-0d19-4dfa-d739-7c3e2743d48a"
      },
      "execution_count": 172,
      "outputs": [
        {
          "output_type": "execute_result",
          "data": {
            "text/plain": [
              "<Figure size 640x480 with 1 Axes>"
            ],
            "image/png": "[encoded data removed]"
          },
          "metadata": {},
          "execution_count": 172
        }
      ]
    },
    {
      "cell_type": "markdown",
      "source": [
        "# Part 2: Generalization to an N-level QGB"
      ],
      "metadata": {
        "id": "C1T8BEW7x72E"
      }
    },
    {
      "cell_type": "markdown",
      "source": [
        "## N-level Quantum Galton Board"
      ],
      "metadata": {
        "id": "_hAVH8actws6"
      }
    },
    {
      "cell_type": "code",
      "source": [
        "def nth_level_QGB(qc: QuantumCircuit, n: int) -> None:\n",
        "  q = qc.qregs[0]\n",
        "  # Placing the 'ball'\n",
        "  qc.x(q[n + 1])\n",
        "\n",
        "  # 1st level\n",
        "  qc.h(q[0])\n",
        "  qpeg(qc, n + 1, n, n + 2, 0)\n",
        "\n",
        "  # k-th level (2 <= k <= n)\n",
        "  for level in range(2, n + 1):\n",
        "    qc.reset(q[0])\n",
        "    qc.h(q[0])\n",
        "    for i in range(1, level + 1):\n",
        "      start = n + 1 + 2 * i - (level + 1)\n",
        "      qpeg(qc, start, start - 1, start + 1, 0)\n",
        "      if i < level:\n",
        "        qc.cx(q[start + 1], q[0])\n",
        "\n",
        "# Bonus: Biased QGB (B-QGB) (higher 'p' means more chance of falling to the right)\n",
        "def nth_level_QGB_biased(qc: QuantumCircuit, n: int, p=0.75) -> None:\n",
        "  q = qc.qregs[0]\n",
        "  theta = 2 * np.acos(np.sqrt(p))\n",
        "  # Placing the 'ball'\n",
        "  qc.x(q[n + 1])\n",
        "\n",
        "  # 1st level\n",
        "  qc.ry(theta, q[0])\n",
        "  qpeg(qc, n + 1, n, n + 2, 0)\n",
        "\n",
        "  # k-th level (2 <= k <= n)\n",
        "  for level in range(2, n + 1):\n",
        "    qc.reset(q[0])\n",
        "    qc.ry(theta, q[0])\n",
        "    for i in range(1, level + 1):\n",
        "      start = n + 2 * i - level\n",
        "      qpeg(qc, start, start - 1, start + 1, 0)\n",
        "      if i < level:\n",
        "        qc.cx(q[start + 1], q[0])"
      ],
      "metadata": {
        "id": "5eyDQIf_KBAs"
      },
      "execution_count": 180,
      "outputs": []
    },
    {
      "cell_type": "markdown",
      "source": [
        "## N-level Quantum Galton Board [Demonstration]"
      ],
      "metadata": {
        "id": "KPqY1wspwwbW"
      }
    },
    {
      "cell_type": "code",
      "source": [
        "n = 7\n",
        "q, c = QuantumRegister(2 * n + 2, \"q\"), ClassicalRegister(n + 1, \"c\")\n",
        "qc3 = QuantumCircuit(q, c)\n",
        "\n",
        "nth_level_QGB(qc3, n)\n",
        "\n",
        "# Measurement\n",
        "for i in range(n + 1):\n",
        "  qc3.measure(q[2 * i + 1], c[i])\n",
        "\n",
        "# Results\n",
        "num_shots = (2 ** n) * 10\n",
        "sampler = SamplerV2()\n",
        "job = sampler.run([qc3], shots=num_shots)\n",
        "result = job.result()\n",
        "counts = result[0].data.c.get_counts()\n",
        "plot_histogram(counts)\n"
      ],
      "metadata": {
        "colab": {
          "base_uri": "https://localhost:8080/",
          "height": 487
        },
        "id": "J9dCqHYywvRZ",
        "outputId": "b7a1ee81-b1a2-45bd-ebf7-445aa557e783"
      },
      "execution_count": 175,
      "outputs": [
        {
          "output_type": "execute_result",
          "data": {
            "text/plain": [
              "<Figure size 640x480 with 1 Axes>"
            ],
            "image/png": "[encoded data removed]"
          },
          "metadata": {},
          "execution_count": 175
        }
      ]
    },
    {
      "cell_type": "code",
      "source": [
        "# Bonus: Demonstration of biased QGB\n",
        "n = 5\n",
        "q, c = QuantumRegister(2 * n + 2, 'q'), ClassicalRegister(n + 1, 'c')\n",
        "\n",
        "qc = QuantumCircuit(q, c)\n",
        "nth_level_QGB_biased(qc, n, p=0.8)\n",
        "for i in range(n + 1):\n",
        "  qc.measure(2 * i + 1, i)\n",
        "\n",
        "# Results\n",
        "sampler = SamplerV2()\n",
        "job = sampler.run([qc], shots=1000)\n",
        "result = job.result()\n",
        "counts = result[0].data.c.get_counts()\n",
        "plot_histogram(counts)"
      ],
      "metadata": {
        "colab": {
          "base_uri": "https://localhost:8080/",
          "height": 470
        },
        "id": "QiV7x5fozkNY",
        "outputId": "16af9203-86be-4030-e91b-3ec23bc3f26e"
      },
      "execution_count": 179,
      "outputs": [
        {
          "output_type": "execute_result",
          "data": {
            "text/plain": [
              "<Figure size 640x480 with 1 Axes>"
            ],
            "image/png": "[encoded data removed]"
          },
          "metadata": {},
          "execution_count": 179
        }
      ]
    },
    {
      "cell_type": "markdown",
      "source": [
        "# Part 3: Obtaining different distributions from the QGB"
      ],
      "metadata": {
        "id": "lWx4qGJoyXdd"
      }
    },
    {
      "cell_type": "markdown",
      "source": [
        "## Distribution 1: Exponential\n",
        "\n",
        "Uses the canonical discretization of the exponential distribution (i.e. the geometric distribution) over a finite set of integers."
      ],
      "metadata": {
        "id": "t2OWoRP8H_KE"
      }
    },
    {
      "cell_type": "code",
      "source": [
        "def exp_n_level_QGB(qc: QuantumCircuit, n: int, lambd: float) -> None:\n",
        "  p = 1 - np.exp(-lambd)\n",
        "  theta = 2 * np.asin(np.sqrt(p))\n",
        "  # Placing the 'ball'\n",
        "  qc.x(n + 1)\n",
        "\n",
        "  # 1st level\n",
        "  qc.ry(theta, 0)\n",
        "  qpeg(qc, n + 1, n, n + 2, 0)\n",
        "\n",
        "  # k-th level (2 <= k <= n)\n",
        "  for level in range(2, n + 1):\n",
        "    for i in range(1, level + 1):\n",
        "      qc.reset(0)\n",
        "      new_theta = theta if i == level else np.pi\n",
        "      qc.ry(new_theta, 0)\n",
        "      start = n + 1 + 2 * i - (level + 1)\n",
        "      qpeg(qc, start, start - 1, start + 1, 0)\n",
        "      if i > 1:\n",
        "        qc.cx(start, start - 1)\n",
        "        qc.reset(start)"
      ],
      "metadata": {
        "id": "kwnZToaaK7Bp"
      },
      "execution_count": 12,
      "outputs": []
    },
    {
      "cell_type": "code",
      "source": [
        "# Test Exponential QGB\n",
        "n = 5\n",
        "q, c = QuantumRegister(2 * n + 2, \"q\"), ClassicalRegister(n + 1, \"c\")\n",
        "qc_exp = QuantumCircuit(q, c)\n",
        "\n",
        "exp_n_level_QGB(qc_exp, n, lambd=0.8)\n",
        "\n",
        "# Measurement\n",
        "for i in range(n + 1):\n",
        "    qc_exp.measure(2 * i + 1, i)\n",
        "\n",
        "sampler = SamplerV2()\n",
        "job = sampler.run([qc_exp], shots=100000)\n",
        "result = job.result()\n",
        "counts_exp = result[0].data.c.get_counts()\n",
        "print(\"Exponential QGB results:\")\n",
        "print(counts_exp)\n",
        "plot_histogram(counts_exp)\n",
        "\n"
      ],
      "metadata": {
        "id": "Lk_p7CeQ0ePU"
      },
      "execution_count": null,
      "outputs": []
    },
    {
      "cell_type": "markdown",
      "source": [
        "## 'Distribution' 2: Hadamard quantum walk"
      ],
      "metadata": {
        "id": "-iq_M2H_2WN6"
      }
    },
    {
      "cell_type": "code",
      "source": [
        "# Modified quantum peg - adds phase for quantum interference\n",
        "def qpeg_modified(qc: QuantumCircuit, ball: int, path_1: int, path_2: int, control: int):\n",
        "  q = qc.qregs[0]\n",
        "  qc.cswap(q[control], q[path_1], q[ball])\n",
        "  qc.p(np.pi / 16, q[ball])\n",
        "  qc.cx(q[ball], q[control])\n",
        "  qc.cswap(q[control], q[ball], q[path_2])\n",
        "\n",
        "def quantum_walk_QGB(n: int, qc: QuantumCircuit) -> None:\n",
        "    # Placing the 'ball'\n",
        "    qc.x(n + 1)\n",
        "\n",
        "    # 1st level - add phase for quantum walk behavior\n",
        "    qc.h(0)\n",
        "    qc.p(np.pi/8, 0)  # phase for interference\n",
        "    qpeg(qc, n + 1, n, n + 2, 0)\n",
        "\n",
        "    # k-th level (2 <= k <= n)\n",
        "    for level in range(2, n + 1):\n",
        "        qc.reset(0)\n",
        "        qc.h(0)\n",
        "        # Different phase for each level to create walk interference\n",
        "        qc.p(np.pi * level / 8, 0)\n",
        "\n",
        "        for i in range(1, level + 1):\n",
        "           start = n + 1 + 2 * i - (level + 1)\n",
        "           qpeg_modified(qc, start, start - 1, start + 1, 0)\n",
        "           if i < level:\n",
        "              qc.cx(start + 1, 0)"
      ],
      "metadata": {
        "id": "C4-2N1kW2dQL"
      },
      "execution_count": null,
      "outputs": []
    },
    {
      "cell_type": "code",
      "source": [
        "# Test Hadamard quantum walk\n",
        "\n",
        "n = 5\n",
        "q, c = QuantumRegister(2 * n + 2, \"q\"), ClassicalRegister(n + 1, \"c\")\n",
        "qc_walk = QuantumCircuit(q, c)\n",
        "\n",
        "quantum_walk_QGB(n, qc_walk)\n",
        "\n",
        "for q in range(n + 1):\n",
        "    qc_walk.measure(2 * q + 1, q)\n",
        "\n",
        "\n",
        "job = sampler.run([qc_walk], shots=10000)\n",
        "result = job.result()\n",
        "counts_walk = result[0].data.c.get_counts()\n",
        "print(\"Quantum Walk QGB results:\")\n",
        "print(counts_walk)\n",
        "plot_histogram(counts_walk)"
      ],
      "metadata": {
        "id": "KhZSkdyQ2xM0"
      },
      "execution_count": null,
      "outputs": []
    },
    {
      "cell_type": "markdown",
      "source": [
        "# Comparing the 3 QGBs (Original, Exponential, Quantum Walk)\n",
        "\n",
        "**Original**: Uses the Hadamard gate to achieve uniform superposition at every level to obtain a uniform distribution.\n",
        "\n",
        "**Exponential**: Implements the canonical discretization of the exponential distribution. Results in an exponential decay.\n",
        "\n",
        "**Quantum Walk**: Uses the Hadamard and Phase gate, as well as distinct phases in qpeg to add interference effects."
      ],
      "metadata": {
        "id": "465MBZxYWNzd"
      }
    },
    {
      "cell_type": "code",
      "source": [
        "n = 5\n",
        "circuits = []\n",
        "names = [\"Original\", \"Exponential\", \"Quantum Walk\"]\n",
        "\n",
        "for name in names:\n",
        "    q, c = QuantumRegister(2 * n + 2, \"q\"), ClassicalRegister(n + 1, \"c\")\n",
        "    qc = QuantumCircuit(q, c)\n",
        "\n",
        "    if name == \"Original\":\n",
        "        nth_level_QGB(qc, n)\n",
        "    elif name == \"Exponential\":\n",
        "        exp_n_level_QGB(qc, n, lambd=0.8)\n",
        "    else:  # Quantum Walk\n",
        "        quantum_walk_QGB(n, qc)\n",
        "\n",
        "    # Measurement\n",
        "    for i in range(n + 1):\n",
        "        qc.measure(2 * i + 1, i)\n",
        "\n",
        "    circuits.append(qc)\n",
        "\n",
        "print(f\"\\n Comparison of all three {n}-level variants\")\n",
        "\n",
        "job = sampler.run(circuits, shots=10000)\n",
        "result = job.result()\n",
        "\n",
        "# Plot all three\n",
        "import matplotlib.pyplot as plt\n",
        "fig, axes = plt.subplots(1, 3, figsize=(15, 4))\n",
        "\n",
        "for i, name in enumerate(names):\n",
        "    counts = result[i].data.c.get_counts()\n",
        "    print(f\"\\n{name} QGB results:\")\n",
        "    print(counts)\n",
        "    positions = {}\n",
        "    for key, count in counts.items():\n",
        "        pos = len(key) - key.find(\"1\")\n",
        "        positions[pos] = count\n",
        "\n",
        "    print(f\"Position distribution: {dict(sorted(positions.items()))}\")\n",
        "\n",
        "    axes[i].bar(positions.keys(), positions.values())\n",
        "    axes[i].set_title(f'{name} QGB')\n",
        "    axes[i].set_xlabel('Final Position')\n",
        "    axes[i].set_ylabel('Counts')\n",
        "\n",
        "plt.tight_layout()\n",
        "plt.show()\n"
      ],
      "metadata": {
        "colab": {
          "base_uri": "https://localhost:8080/",
          "height": 585
        },
        "id": "YhdhJJAaWBe7",
        "outputId": "de490bdd-a43a-4439-cf1f-f35a11f3f047"
      },
      "execution_count": 145,
      "outputs": [
        {
          "output_type": "stream",
          "name": "stdout",
          "text": [
            "\n",
            " Comparison of all three 5-level variants\n",
            "\n",
            "Original QGB results:\n",
            "{'100000': 294, '000100': 3165, '010000': 1591, '000001': 309, '000010': 1545, '001000': 3096}\n",
            "Position distribution: {1: 309, 2: 1545, 3: 3165, 4: 3096, 5: 1591, 6: 294}\n",
            "\n",
            "Exponential QGB results:\n",
            "{'000010': 2473, '000100': 1094, '000001': 5507, '001000': 467, '010000': 253, '100000': 206}\n",
            "Position distribution: {1: 5507, 2: 2473, 3: 1094, 4: 467, 5: 253, 6: 206}\n",
            "\n",
            "Quantum Walk QGB results:\n",
            "{'001000': 3135, '000100': 3076, '000010': 1569, '010000': 1590, '100000': 338, '000001': 292}\n",
            "Position distribution: {1: 292, 2: 1569, 3: 3076, 4: 3135, 5: 1590, 6: 338}\n"
          ]
        },
        {
          "output_type": "display_data",
          "data": {
            "text/plain": [
              "<Figure size 1500x400 with 3 Axes>"
            ],
            "image/png": "[encoded data removed]"
          },
          "metadata": {}
        }
      ]
    },
    {
      "cell_type": "markdown",
      "source": [
        "# REFERENCES\n",
        "\n",
        "*   Carney, M., & Varcoe, B. (2022). *Universal Statistical Simulator*. https://doi.org/10.48550/arxiv.2202.01735\n",
        "\n"
      ],
      "metadata": {
        "id": "L-WNnOMC7nCf"
      }
    }
  ]
}